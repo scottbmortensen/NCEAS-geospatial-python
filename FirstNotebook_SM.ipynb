{
 "cells": [
  {
   "cell_type": "code",
   "execution_count": 1,
   "metadata": {},
   "outputs": [
    {
     "name": "stdout",
     "output_type": "stream",
     "text": [
      "this code will run\n",
      "12\n"
     ]
    }
   ],
   "source": [
    "def example():\n",
    "    print('this code will run')\n",
    "    z = 3+9\n",
    "    print(z)\n",
    "    \n",
    "example()\n"
   ]
  },
  {
   "cell_type": "code",
   "execution_count": 2,
   "metadata": {},
   "outputs": [
    {
     "name": "stdout",
     "output_type": "stream",
     "text": [
      "('num1 is', 5)\n",
      "8\n"
     ]
    }
   ],
   "source": [
    "def simple_addition(num1, num2):\n",
    "    answer = num1 + num2\n",
    "    print ('num1 is', num1)\n",
    "    print(answer)\n",
    "    \n",
    "simple_addition(5,3)\n"
   ]
  },
  {
   "cell_type": "code",
   "execution_count": null,
   "metadata": {},
   "outputs": [],
   "source": [
    "##WRITE\n",
    "text = 'Sample Text to Save\\nNew line!'\n",
    "\n",
    "# notifies Python that you are opening this file, with the intention to write\n",
    "saveFile = open('exampleFile.txt','w')\n",
    "\n",
    "# actually writes the information\n",
    "saveFile.write(text)\n",
    "\n",
    "# It is important to remember to actually close the file, otherwise it will\n",
    "# hang for a while and could cause problems in your script\n",
    "saveFile.close()\n",
    "\n",
    "##APPEND\n",
    "# so here, generally it can be a good idea to start with a newline, since\n",
    "# otherwise it will append data on the same line as the file left off.\n",
    "# you might want that, but I'll use a new line.\n",
    "# another option used is to first append just a simple newline\n",
    "# then append what you want. \n",
    "appendMe = '\\nNew bit of information'\n",
    "\n",
    "appendFile = open('exampleFile.txt','a')\n",
    "appendFile.write(appendMe)\n",
    "appendFile.close()\n",
    "\n",
    "##READ\n",
    "# similar syntax as you've seen, 'r' for read. You can just throw a .read() at\n",
    "# the end, and you get:\n",
    "readMe = open('exampleFile.txt','r').read()\n",
    "print(readMe)\n",
    "\n",
    "##GET USER INPUT\n",
    "x = input('What is your name?: ')\n",
    "print('Hello',x)\n",
    "\n",
    "##STATISTICS\n",
    "import statistics\n",
    "\n",
    "example_list = [5,2,5,6,1,2,6,7,2,6,3,5,5]\n",
    "\n",
    "x = statistics.mean(example_list)\n",
    "print(x)\n",
    "\n"
   ]
  },
  {
   "cell_type": "code",
   "execution_count": 1,
   "metadata": {},
   "outputs": [
    {
     "ename": "SyntaxError",
     "evalue": "invalid syntax (<ipython-input-1-7414ac3d63e0>, line 4)",
     "output_type": "error",
     "traceback": [
      "\u001b[0;36m  File \u001b[0;32m\"<ipython-input-1-7414ac3d63e0>\"\u001b[0;36m, line \u001b[0;32m4\u001b[0m\n\u001b[0;31m    in_data_dir =\u001b[0m\n\u001b[0m                 ^\u001b[0m\n\u001b[0;31mSyntaxError\u001b[0m\u001b[0;31m:\u001b[0m invalid syntax\n"
     ]
    }
   ],
   "source": [
    "import geopandas as gpd\n",
    "import os\n",
    "\n",
    "in_data_dir =\n",
    "out_data_dir =\n",
    "\n",
    "##pass in sasap_regions shapefile, convert CRS to Alaska Albers (epsg 3338)\n",
    "sasap_regions = \"https://knb.ecoinformatics.org/knb/d1/mn/v2/object/urn%3Auuid%3Af6ab206b-312c-4caf-89c8-89eb9d031aac\" #name of sasap regions shapefile in in_data_dir\n",
    "sasap_reg = gpd.read_file(sasap_regions).to_crs(epsg=3338)\n",
    "sasap_reg.simplify(1000).plot()         #this plots the regions shapefile (simplify(1000)??)\n",
    "sasap_reg.head()\n",
    "\n",
    "##import sasap_regions with Shapely as a geometric object too\n",
    "##figure out how to select a single region (Norton Sound) from sasap_regions\n",
    "\n",
    "##pass in pink salmon shapefile as a geodataframe with GeoPandas\n",
    "pink_salmon = in_data_dir()             #Will use AllSalmon_sasap_final shapefile for final analysis\n",
    "pk_sal = gpd.read_file(pink_salmon)     #read in shapefile with geopandas\n",
    "pk_sal = pk_sal.to_crs(epsg=3338)       #change reference system to Alaska Albers\n",
    "len(pk_sal)                             #see how many geometries there are\n",
    "\n",
    "##Clip pk_sal by selected sasap_regions (Norton Sound)\n",
    "##Export results of clip to a new shapefile and save to out_data_dir\n",
    "\n",
    "##export stream length attribute table to a .csv file (containing at least species, region, and total stream length)\n",
    "##deleteintermediary clipped shapefiles (only need to retain .csv files as output)\n",
    "##convert stream length in .csv from meters to kilometers. \n",
    "\n",
    "\n",
    "\n",
    "\n",
    "\n",
    "\n"
   ]
  },
  {
   "cell_type": "code",
   "execution_count": null,
   "metadata": {},
   "outputs": [],
   "source": []
  }
 ],
 "metadata": {
  "kernelspec": {
   "display_name": "Python 2",
   "language": "python",
   "name": "python2"
  },
  "language_info": {
   "codemirror_mode": {
    "name": "ipython",
    "version": 2
   },
   "file_extension": ".py",
   "mimetype": "text/x-python",
   "name": "python",
   "nbconvert_exporter": "python",
   "pygments_lexer": "ipython2",
   "version": "2.7.12"
  }
 },
 "nbformat": 4,
 "nbformat_minor": 2
}
