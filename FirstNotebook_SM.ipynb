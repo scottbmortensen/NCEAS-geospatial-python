{
 "cells": [
  {
   "cell_type": "code",
   "execution_count": 1,
   "metadata": {},
   "outputs": [
    {
     "name": "stdout",
     "output_type": "stream",
     "text": [
      "this code will run\n",
      "12\n"
     ]
    }
   ],
   "source": [
    "def example():\n",
    "    print('this code will run')\n",
    "    z = 3+9\n",
    "    print(z)\n",
    "    \n",
    "example()\n"
   ]
  },
  {
   "cell_type": "code",
   "execution_count": 2,
   "metadata": {},
   "outputs": [
    {
     "name": "stdout",
     "output_type": "stream",
     "text": [
      "('num1 is', 5)\n",
      "8\n"
     ]
    }
   ],
   "source": [
    "def simple_addition(num1, num2):\n",
    "    answer = num1 + num2\n",
    "    print ('num1 is', num1)\n",
    "    print(answer)\n",
    "    \n",
    "simple_addition(5,3)\n"
   ]
  },
  {
   "cell_type": "code",
   "execution_count": null,
   "metadata": {},
   "outputs": [],
   "source": [
    "##WRITE\n",
    "text = 'Sample Text to Save\\nNew line!'\n",
    "\n",
    "# notifies Python that you are opening this file, with the intention to write\n",
    "saveFile = open('exampleFile.txt','w')\n",
    "\n",
    "# actually writes the information\n",
    "saveFile.write(text)\n",
    "\n",
    "# It is important to remember to actually close the file, otherwise it will\n",
    "# hang for a while and could cause problems in your script\n",
    "saveFile.close()\n",
    "\n",
    "##APPEND\n",
    "# so here, generally it can be a good idea to start with a newline, since\n",
    "# otherwise it will append data on the same line as the file left off.\n",
    "# you might want that, but I'll use a new line.\n",
    "# another option used is to first append just a simple newline\n",
    "# then append what you want. \n",
    "appendMe = '\\nNew bit of information'\n",
    "\n",
    "appendFile = open('exampleFile.txt','a')\n",
    "appendFile.write(appendMe)\n",
    "appendFile.close()\n",
    "\n",
    "##READ\n",
    "# similar syntax as you've seen, 'r' for read. You can just throw a .read() at\n",
    "# the end, and you get:\n",
    "readMe = open('exampleFile.txt','r').read()\n",
    "print(readMe)\n",
    "\n",
    "##GET USER INPUT\n",
    "x = input('What is your name?: ')\n",
    "print('Hello',x)\n",
    "\n",
    "##STATISTICS\n",
    "import statistics\n",
    "\n",
    "example_list = [5,2,5,6,1,2,6,7,2,6,3,5,5]\n",
    "\n",
    "x = statistics.mean(example_list)\n",
    "print(x)\n",
    "\n"
   ]
  },
  {
   "cell_type": "code",
   "execution_count": 1,
   "metadata": {},
   "outputs": [],
   "source": [
    "import geopandas as gpd\n"
   ]
  },
  {
   "cell_type": "code",
   "execution_count": null,
   "metadata": {},
   "outputs": [],
   "source": []
  }
 ],
 "metadata": {
  "kernelspec": {
   "display_name": "Python 2",
   "language": "python",
   "name": "python2"
  },
  "language_info": {
   "codemirror_mode": {
    "name": "ipython",
    "version": 2
   },
   "file_extension": ".py",
   "mimetype": "text/x-python",
   "name": "python",
   "nbconvert_exporter": "python",
   "pygments_lexer": "ipython2",
   "version": "2.7.12"
  }
 },
 "nbformat": 4,
 "nbformat_minor": 2
}
