{
 "cells": [
  {
   "cell_type": "code",
   "execution_count": 1,
   "metadata": {},
   "outputs": [
    {
     "name": "stdout",
     "output_type": "stream",
     "text": [
      "this code will run\n",
      "12\n"
     ]
    }
   ],
   "source": [
    "def example():\n",
    "    print('this code will run')\n",
    "    z = 3+9\n",
    "    print(z)\n",
    "    \n",
    "example()\n"
   ]
  },
  {
   "cell_type": "code",
   "execution_count": 2,
   "metadata": {},
   "outputs": [
    {
     "name": "stdout",
     "output_type": "stream",
     "text": [
      "('num1 is', 5)\n",
      "8\n"
     ]
    }
   ],
   "source": [
    "def simple_addition(num1, num2):\n",
    "    answer = num1 + num2\n",
    "    print ('num1 is', num1)\n",
    "    print(answer)\n",
    "    \n",
    "simple_addition(5,3)\n"
   ]
  },
  {
   "cell_type": "code",
   "execution_count": null,
   "metadata": {},
   "outputs": [],
   "source": [
    "##WRITE\n",
    "text = 'Sample Text to Save\\nNew line!'\n",
    "\n",
    "# notifies Python that you are opening this file, with the intention to write\n",
    "saveFile = open('exampleFile.txt','w')\n",
    "\n",
    "# actually writes the information\n",
    "saveFile.write(text)\n",
    "\n",
    "# It is important to remember to actually close the file, otherwise it will\n",
    "# hang for a while and could cause problems in your script\n",
    "saveFile.close()\n",
    "\n",
    "##APPEND\n",
    "# so here, generally it can be a good idea to start with a newline, since\n",
    "# otherwise it will append data on the same line as the file left off.\n",
    "# you might want that, but I'll use a new line.\n",
    "# another option used is to first append just a simple newline\n",
    "# then append what you want. \n",
    "appendMe = '\\nNew bit of information'\n",
    "\n",
    "appendFile = open('exampleFile.txt','a')\n",
    "appendFile.write(appendMe)\n",
    "appendFile.close()\n",
    "\n",
    "##READ\n",
    "# similar syntax as you've seen, 'r' for read. You can just throw a .read() at\n",
    "# the end, and you get:\n",
    "readMe = open('exampleFile.txt','r').read()\n",
    "print(readMe)\n",
    "\n",
    "##GET USER INPUT\n",
    "x = input('What is your name?: ')\n",
    "print('Hello',x)\n",
    "\n",
    "##STATISTICS\n",
    "import statistics\n",
    "\n",
    "example_list = [5,2,5,6,1,2,6,7,2,6,3,5,5]\n",
    "\n",
    "x = statistics.mean(example_list)\n",
    "print(x)\n",
    "\n"
   ]
  },
  {
   "cell_type": "code",
   "execution_count": 5,
   "metadata": {},
   "outputs": [
    {
     "name": "stdout",
     "output_type": "stream",
     "text": [
      "Populating the interactive namespace from numpy and matplotlib\n"
     ]
    },
    {
     "data": {
      "text/plain": [
       "<matplotlib.axes._subplots.AxesSubplot at 0x11c6d8b50>"
      ]
     },
     "execution_count": 5,
     "metadata": {},
     "output_type": "execute_result"
    },
    {
     "data": {
      "image/png": "[encoded data removed]",
      "text/plain": [
       "<Figure size 432x288 with 1 Axes>"
      ]
     },
     "metadata": {},
     "output_type": "display_data"
    }
   ],
   "source": [
    "%pylab inline\n",
    "import geopandas as gpd\n",
    "import os\n",
    "\n",
    "in_data_dir = \"data/\"\n",
    "# out_data_dir =\n",
    "\n",
    "##pass in sasap_regions shapefile, convert CRS to Alaska Albers (epsg 3338)\n",
    "sasap_regions = \"https://knb.ecoinformatics.org/knb/d1/mn/v2/object/urn%3Auuid%3Af6ab206b-312c-4caf-89c8-89eb9d031aac\" #name of sasap regions shapefile in in_data_dir\n",
    "sasap_reg = gpd.read_file(sasap_regions).to_crs(epsg=3338)\n",
    "sasap_reg.simplify(1000).plot()         #this plots the regions shapefile (simplify(1000)??)"
   ]
  },
  {
   "cell_type": "code",
   "execution_count": 4,
   "metadata": {},
   "outputs": [
    {
     "data": {
      "text/html": [
       "<div>\n",
       "<style scoped>\n",
       "    .dataframe tbody tr th:only-of-type {\n",
       "        vertical-align: middle;\n",
       "    }\n",
       "\n",
       "    .dataframe tbody tr th {\n",
       "        vertical-align: top;\n",
       "    }\n",
       "\n",
       "    .dataframe thead th {\n",
       "        text-align: right;\n",
       "    }\n",
       "</style>\n",
       "<table border=\"1\" class=\"dataframe\">\n",
       "  <thead>\n",
       "    <tr style=\"text-align: right;\">\n",
       "      <th></th>\n",
       "      <th>region_id</th>\n",
       "      <th>region</th>\n",
       "      <th>geometry</th>\n",
       "    </tr>\n",
       "  </thead>\n",
       "  <tbody>\n",
       "    <tr>\n",
       "      <th>0</th>\n",
       "      <td>1</td>\n",
       "      <td>Aleutian Islands</td>\n",
       "      <td>(POLYGON ((-1156665.959195634 420855.093106978...</td>\n",
       "    </tr>\n",
       "    <tr>\n",
       "      <th>1</th>\n",
       "      <td>2</td>\n",
       "      <td>Arctic</td>\n",
       "      <td>POLYGON ((571289.9424044377 2143072.479559345,...</td>\n",
       "    </tr>\n",
       "    <tr>\n",
       "      <th>2</th>\n",
       "      <td>3</td>\n",
       "      <td>Bristol Bay</td>\n",
       "      <td>(POLYGON ((-339688.5870041371 973904.876117813...</td>\n",
       "    </tr>\n",
       "    <tr>\n",
       "      <th>3</th>\n",
       "      <td>4</td>\n",
       "      <td>Chignik</td>\n",
       "      <td>(POLYGON ((-114381.9018728056 649966.806579367...</td>\n",
       "    </tr>\n",
       "    <tr>\n",
       "      <th>4</th>\n",
       "      <td>5</td>\n",
       "      <td>Copper River</td>\n",
       "      <td>POLYGON ((561012.0068005103 1148300.750064242,...</td>\n",
       "    </tr>\n",
       "  </tbody>\n",
       "</table>\n",
       "</div>"
      ],
      "text/plain": [
       "   region_id            region  \\\n",
       "0          1  Aleutian Islands   \n",
       "1          2            Arctic   \n",
       "2          3       Bristol Bay   \n",
       "3          4           Chignik   \n",
       "4          5      Copper River   \n",
       "\n",
       "                                            geometry  \n",
       "0  (POLYGON ((-1156665.959195634 420855.093106978...  \n",
       "1  POLYGON ((571289.9424044377 2143072.479559345,...  \n",
       "2  (POLYGON ((-339688.5870041371 973904.876117813...  \n",
       "3  (POLYGON ((-114381.9018728056 649966.806579367...  \n",
       "4  POLYGON ((561012.0068005103 1148300.750064242,...  "
      ]
     },
     "execution_count": 4,
     "metadata": {},
     "output_type": "execute_result"
    }
   ],
   "source": [
    "sasap_reg.head()"
   ]
  },
  {
   "cell_type": "code",
   "execution_count": 1,
   "metadata": {},
   "outputs": [],
   "source": [
    "##import sasap_regions with Shapely as a geometric object too\n",
    "##figure out how to select a single region (Norton Sound) from sasap_regions\n",
    "\n",
    "##pass in pink salmon shapefile as a geodataframe with GeoPandas\n",
    "pink_salmon_fn = os.path.join(in_data_dir, \"AllSalmon_sasap_final.shp\")             #Will use AllSalmon_sasap_final shapefile for final analysis\n",
    "pk_sal = gpd.read_file(pink_salmon)     #read in shapefile with geopandas\n",
    "pk_sal = pk_sal.to_crs(epsg=3338)       #change reference system to Alaska Albers\n",
    "len(pk_sal)                             #see how many geometries there are"
   ]
  },
  {
   "cell_type": "markdown",
   "metadata": {},
   "source": [
    "Clip pk_sal by selected sasap_regions (Norton Sound)\n",
    "Export results of clip to a new shapefile and save to out_data_dir\n",
    "\n",
    "export stream length attribute table to a .csv file (containing at least species, region, and total stream length)\n",
    "deleteintermediary clipped shapefiles (only need to retain .csv files as output)\n",
    "convert stream length in .csv from meters to kilometers. "
   ]
  },
  {
   "cell_type": "code",
   "execution_count": null,
   "metadata": {},
   "outputs": [],
   "source": [
    "# all psuedo-code. may not work, but describes what we want to do\n",
    "def clip_species_data(species_df, individual_region_geom):\n",
    "    return species_df.instersection(individual_region_geom).length.sum()\n",
    "    "
   ]
  },
  {
   "cell_type": "code",
   "execution_count": null,
   "metadata": {},
   "outputs": [],
   "source": [
    "# assuming there's a species column (called 'species') in All_Salmon_sasap:\n",
    "for species in All_Salmon_sasap.species.unique():\n",
    "    species_df = All_Salmon_sasap.query(\"species == @species\")\n",
    "    sasap_reg[species] = sasap_reg.geometry.apply(lambda g: clip_species_data(species_df, g))"
   ]
  }
 ],
 "metadata": {
  "kernelspec": {
   "display_name": "Python 2",
   "language": "python",
   "name": "python2"
  },
  "language_info": {
   "codemirror_mode": {
    "name": "ipython",
    "version": 2
   },
   "file_extension": ".py",
   "mimetype": "text/x-python",
   "name": "python",
   "nbconvert_exporter": "python",
   "pygments_lexer": "ipython2",
   "version": "2.7.15"
  }
 },
 "nbformat": 4,
 "nbformat_minor": 2
}
